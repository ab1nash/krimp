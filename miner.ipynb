{
 "cells": [
  {
   "cell_type": "code",
   "execution_count": 157,
   "metadata": {},
   "outputs": [],
   "source": [
    "import numpy as np\n",
    "from itertools import chain, combinations"
   ]
  },
  {
   "cell_type": "code",
   "execution_count": 158,
   "metadata": {},
   "outputs": [],
   "source": [
    "class Itemset:\n",
    "    def __init__(self, items: list):\n",
    "        self.items = items\n",
    "        self.size = len(items)\n",
    "    \n",
    "    def getItems(self):\n",
    "        return self.items\n",
    "    def getSize(self):\n",
    "        return self.size"
   ]
  },
  {
   "cell_type": "code",
   "execution_count": 159,
   "metadata": {},
   "outputs": [],
   "source": [
    "# read all transactions from comma-separated file\n",
    "def read_transactions(filename):\n",
    "    transactions = []\n",
    "    with open(filename, 'r') as f:\n",
    "        for line in f:\n",
    "            transactions.append(line.strip().split(','))\n",
    "    return transactions"
   ]
  },
  {
   "cell_type": "code",
   "execution_count": 160,
   "metadata": {},
   "outputs": [],
   "source": [
    "# convert all elements in txn from string to int\n",
    "def convert_to_int(txns):\n",
    "    for i in range(len(txns)):\n",
    "        for j in range(len(txns[i])):\n",
    "            txns[i][j] = int(txns[i][j])\n",
    "        txns[i].sort()\n",
    "    return txns\n"
   ]
  },
  {
   "cell_type": "code",
   "execution_count": 161,
   "metadata": {},
   "outputs": [],
   "source": [
    "def convert_to_objects(txn):\n",
    "    ret = []\n",
    "    for i in range(len(txn)):\n",
    "        ret.append(Itemset(txn[i]))\n",
    "    return ret"
   ]
  },
  {
   "cell_type": "code",
   "execution_count": 162,
   "metadata": {},
   "outputs": [],
   "source": [
    "def vec2str(vec):\n",
    "    ret = ''\n",
    "    for i in range(len(vec)):\n",
    "        ret += str(vec[i]) + ' '\n",
    "    ret = ret.rstrip()\n",
    "    return ret\n",
    "\n",
    "def str2vec(str: str):\n",
    "    ret = []\n",
    "    for i in range(len(str.split(' '))):\n",
    "        ret.append(int(str.split(' ')[i]))\n",
    "    return ret\n",
    "\n",
    "def count_spaces(str: str):\n",
    "    return str.count(' ')"
   ]
  },
  {
   "cell_type": "code",
   "execution_count": 163,
   "metadata": {},
   "outputs": [],
   "source": [
    "txns = read_transactions('data/grocery.txt')\n",
    "txns = convert_to_int(txns)\n",
    "txns_itemsets = convert_to_objects(txns)"
   ]
  },
  {
   "cell_type": "code",
   "execution_count": 164,
   "metadata": {},
   "outputs": [],
   "source": [
    "# txns\n",
    "# txn_itemsets # find a better name for this"
   ]
  },
  {
   "cell_type": "code",
   "execution_count": 165,
   "metadata": {},
   "outputs": [
    {
     "data": {
      "text/plain": [
       "dict_items([('1', 2), ('10', 2), ('5', 2), ('20', 1), ('1 20', 1), ('5 7', 1), ('9 10', 1), ('1 21', 1)])"
      ]
     },
     "execution_count": 165,
     "metadata": {},
     "output_type": "execute_result"
    }
   ],
   "source": [
    "# sample dictionary\n",
    "d = {'1': 24, '10': 86, '5': 33, '20': 34, '1 20': 34, '5 7': 36, '9 10': 37,'1 21': 37}\n",
    "d = {'1': 2, '10': 2, '5': 2, '20': 1, '1 20': 1, '5 7': 1, '9 10': 1,'1 21': 1}\n",
    "d.items()\n"
   ]
  },
  {
   "cell_type": "code",
   "execution_count": 166,
   "metadata": {},
   "outputs": [],
   "source": [
    "# SCO = decreasing by count, decreasing by support, lexicographic\n",
    "# Try to test more thoroughly\n",
    "# lexicographic\n",
    "# d = { k:v for k,v in sorted(d.items(), key=lambda x: x[0])}\n",
    "d = { k:v for k,v in sorted(d.items(), key=lambda x: str2vec(x[0]))}\n",
    "# by support\n",
    "d = { k:v for k,v in sorted(d.items(), key=lambda x: x[1], reverse=True)}\n",
    "#by count\n",
    "d = { k:v for k,v in sorted(d.items(), key=lambda x: count_spaces(x[0]), reverse=True)}"
   ]
  },
  {
   "cell_type": "code",
   "execution_count": 167,
   "metadata": {},
   "outputs": [
    {
     "data": {
      "text/plain": [
       "{'1 20': 1, '1 21': 1, '5 7': 1, '9 10': 1, '1': 2, '5': 2, '10': 2, '20': 1}"
      ]
     },
     "execution_count": 167,
     "metadata": {},
     "output_type": "execute_result"
    }
   ],
   "source": [
    "d"
   ]
  },
  {
   "cell_type": "code",
   "execution_count": 168,
   "metadata": {},
   "outputs": [],
   "source": [
    "def getStandardCodeTable(txns: list):\n",
    "    \"\"\"\n",
    "    <algorithm 1>\n",
    "    \n",
    "    Get the standard code table from the database.\n",
    "\n",
    "    @param txns: database / list of transactions\n",
    "    @return: standard code table SCT\n",
    "    SCT = { itemName:(code,frequency) , ...}\n",
    "    \"\"\"\n",
    "    # get the unique items in transactions\n",
    "    d = {}\n",
    "    for tx in txns:\n",
    "        for item in tx:\n",
    "            key = vec2str([item])\n",
    "            if(key not in d):\n",
    "                d[key] = 1\n",
    "            else:\n",
    "                d[key]+=1\n",
    "    \n",
    "    # sort items by their frequency\n",
    "    d = { k:v for k,v in sorted(d.items(), key=lambda x: str2vec(x[0]))}\n",
    "    # by support\n",
    "    d = { k:v for k,v in sorted(d.items(), key=lambda x: x[1], reverse=True)}\n",
    "    #by count\n",
    "    d = { k:v for k,v in sorted(d.items(), key=lambda x: count_spaces(x[0]), reverse=True)}\n",
    "    # print(d)\n",
    "\n",
    "    # get the standard code table, we don't need the actual code rn\n",
    "    code_table = {}\n",
    "    # actual_code = 0\n",
    "    for key, value in d.items():\n",
    "        code_table[key] = value\n",
    "        # code_table[key] = (actual_code,value)\n",
    "        # actual_code+=1\n",
    "\n",
    "    return code_table\n",
    "\n",
    "\n",
    "global SCT\n",
    "SCT = getStandardCodeTable(txns)\n",
    "# CT = SCT.copy()"
   ]
  },
  {
   "cell_type": "code",
   "execution_count": 169,
   "metadata": {},
   "outputs": [
    {
     "data": {
      "text/plain": [
       "{'1': 2363,\n",
       " '3': 1827,\n",
       " '4': 1646,\n",
       " '37': 1453,\n",
       " '17': 1285,\n",
       " '21': 1041,\n",
       " '0': 1014,\n",
       " '16': 908,\n",
       " '18': 903,\n",
       " '6': 795,\n",
       " '23': 774,\n",
       " '2': 734,\n",
       " '70': 712,\n",
       " '24': 702,\n",
       " '49': 678,\n",
       " '73': 654,\n",
       " '43': 582,\n",
       " '8': 565,\n",
       " '19': 563,\n",
       " '22': 555,\n",
       " '68': 555,\n",
       " '10': 527,\n",
       " '11': 509,\n",
       " '7': 508,\n",
       " '44': 504,\n",
       " '69': 482,\n",
       " '26': 473,\n",
       " '74': 419,\n",
       " '9': 417,\n",
       " '82': 359,\n",
       " '59': 354,\n",
       " '13': 353,\n",
       " '50': 353,\n",
       " '113': 331,\n",
       " '20': 327,\n",
       " '25': 326,\n",
       " '63': 320,\n",
       " '65': 303,\n",
       " '79': 281,\n",
       " '114': 277,\n",
       " '118': 268,\n",
       " '34': 265,\n",
       " '15': 263,\n",
       " '28': 256,\n",
       " '56': 252,\n",
       " '35': 251,\n",
       " '48': 248,\n",
       " '52': 239,\n",
       " '27': 236,\n",
       " '57': 227,\n",
       " '72': 223,\n",
       " '58': 220,\n",
       " '39': 216,\n",
       " '64': 215,\n",
       " '75': 210,\n",
       " '14': 209,\n",
       " '95': 205,\n",
       " '99': 180,\n",
       " '103': 177,\n",
       " '55': 175,\n",
       " '36': 158,\n",
       " '31': 157,\n",
       " '40': 152,\n",
       " '127': 150,\n",
       " '33': 146,\n",
       " '102': 142,\n",
       " '135': 135,\n",
       " '61': 134,\n",
       " '38': 129,\n",
       " '12': 127,\n",
       " '45': 121,\n",
       " '77': 121,\n",
       " '5': 117,\n",
       " '100': 115,\n",
       " '141': 106,\n",
       " '60': 103,\n",
       " '94': 102,\n",
       " '88': 100,\n",
       " '53': 98,\n",
       " '90': 92,\n",
       " '122': 92,\n",
       " '153': 92,\n",
       " '71': 89,\n",
       " '81': 85,\n",
       " '98': 82,\n",
       " '130': 82,\n",
       " '29': 80,\n",
       " '67': 79,\n",
       " '128': 75,\n",
       " '84': 74,\n",
       " '76': 73,\n",
       " '32': 72,\n",
       " '78': 72,\n",
       " '157': 69,\n",
       " '120': 68,\n",
       " '51': 67,\n",
       " '62': 67,\n",
       " '137': 66,\n",
       " '47': 64,\n",
       " '80': 60,\n",
       " '107': 60,\n",
       " '117': 60,\n",
       " '124': 59,\n",
       " '91': 51,\n",
       " '106': 50,\n",
       " '158': 49,\n",
       " '46': 48,\n",
       " '121': 48,\n",
       " '30': 46,\n",
       " '42': 46,\n",
       " '87': 45,\n",
       " '115': 44,\n",
       " '133': 42,\n",
       " '151': 41,\n",
       " '83': 40,\n",
       " '112': 40,\n",
       " '110': 38,\n",
       " '136': 37,\n",
       " '134': 35,\n",
       " '155': 34,\n",
       " '92': 33,\n",
       " '129': 33,\n",
       " '116': 32,\n",
       " '145': 32,\n",
       " '54': 31,\n",
       " '131': 30,\n",
       " '41': 29,\n",
       " '96': 29,\n",
       " '97': 29,\n",
       " '123': 29,\n",
       " '125': 27,\n",
       " '159': 27,\n",
       " '93': 23,\n",
       " '126': 22,\n",
       " '139': 22,\n",
       " '143': 22,\n",
       " '149': 22,\n",
       " '108': 21,\n",
       " '144': 21,\n",
       " '85': 20,\n",
       " '147': 20,\n",
       " '105': 19,\n",
       " '101': 17,\n",
       " '104': 17,\n",
       " '162': 17,\n",
       " '132': 16,\n",
       " '150': 16,\n",
       " '140': 15,\n",
       " '163': 15,\n",
       " '154': 13,\n",
       " '146': 12,\n",
       " '109': 11,\n",
       " '161': 11,\n",
       " '152': 10,\n",
       " '66': 9,\n",
       " '89': 9,\n",
       " '142': 9,\n",
       " '138': 8,\n",
       " '160': 6,\n",
       " '86': 5,\n",
       " '148': 5,\n",
       " '164': 5,\n",
       " '165': 5,\n",
       " '119': 4,\n",
       " '111': 3,\n",
       " '156': 1,\n",
       " '166': 1}"
      ]
     },
     "execution_count": 169,
     "metadata": {},
     "output_type": "execute_result"
    }
   ],
   "source": [
    "SCT"
   ]
  },
  {
   "cell_type": "code",
   "execution_count": 170,
   "metadata": {},
   "outputs": [],
   "source": [
    "def support(X):\n",
    "    # [TODO] How do we get SCT here properly?\n",
    "    # look into OOP based approach\n",
    "    return SCT[X]/len(txns)"
   ]
  },
  {
   "cell_type": "code",
   "execution_count": 171,
   "metadata": {},
   "outputs": [],
   "source": [
    "def compareSCO(X1, X2):\n",
    "    '''\n",
    "    Compare two transactions in the **Standard Cover Order**\n",
    "    '''\n",
    "    if len(X1) != len(X2):\n",
    "        if len(X1) > len(X2):\n",
    "            return -1\n",
    "        else:\n",
    "            return 1\n",
    "    elif support(X1) != support(X2):\n",
    "        if support(X1) > support(X2):\n",
    "            return -1\n",
    "        else:\n",
    "            return 1\n",
    "    else:\n",
    "        for i in range(len(X1)):\n",
    "            if X1[i] != X2[i]:\n",
    "                if X1[i] < X2[i]:\n",
    "                    return -1\n",
    "                else:\n",
    "                    return 1\n",
    "        return 0"
   ]
  },
  {
   "cell_type": "code",
   "execution_count": 172,
   "metadata": {},
   "outputs": [],
   "source": [
    "def strset2intset(strset: set):\n",
    "    ret = np.array([])\n",
    "    for el in strset:\n",
    "        ret = np.append(ret,str2vec(el))\n",
    "    return set(np.ravel(ret))"
   ]
  },
  {
   "cell_type": "code",
   "execution_count": 173,
   "metadata": {},
   "outputs": [],
   "source": [
    "def getCover(txn: list, CT: dict):\n",
    "    '''\n",
    "    <algorithm 2>\n",
    "\n",
    "    Get the standard cover of a transaction.\n",
    "    \n",
    "    @param txn: A transaction\n",
    "    @param CT:  code table CT\n",
    "    @return: a set, standard cover\n",
    "    CT = { (str)\"items\":(int)code, ...}\n",
    "    '''\n",
    "    # get the standard code\n",
    "    code = set()\n",
    "    \n",
    "    # S ← smallest element X of CT in Standard Cover Order for which X ⊆ t\n",
    "    for k,v in CT.items():\n",
    "        if set(str2vec(k)).issubset(set(txn)):\n",
    "            # add string to set <can this be better?>\n",
    "            code.add(k)\n",
    "            # code = set(str2vec(k))\n",
    "            break\n",
    "    # if t \\ S = ∅ then\n",
    "    if len(set(txn) - strset2intset(code)) == 0:\n",
    "        return code\n",
    "    else:\n",
    "        # Res ← {S} ∪ StandardCover(t \\ S, CT )\n",
    "        return code.union(getCover(list(set(txn) - strset2intset(code)), CT))"
   ]
  },
  {
   "cell_type": "code",
   "execution_count": 174,
   "metadata": {},
   "outputs": [
    {
     "data": {
      "text/plain": [
       "{'1', '102', '17', '18'}"
      ]
     },
     "execution_count": 174,
     "metadata": {},
     "output_type": "execute_result"
    }
   ],
   "source": [
    "test = getCover(txns[0], SCT)\n",
    "test"
   ]
  },
  {
   "cell_type": "code",
   "execution_count": 175,
   "metadata": {},
   "outputs": [],
   "source": [
    "def properPowerset(iterable):\n",
    "    '''\n",
    "    powerset([1,2,3]) --> (1,) (2,) (3,) (1,2) (1,3) (2,3) (1,2,3)\n",
    "    '''\n",
    "    s = list(iterable)\n",
    "    return list(chain.from_iterable(combinations(s, r) for r in range(2,len(s)+1)))"
   ]
  },
  {
   "cell_type": "code",
   "execution_count": 176,
   "metadata": {},
   "outputs": [
    {
     "data": {
      "text/plain": [
       "[(1, 2), (1, 4), (2, 4), (1, 2, 4)]"
      ]
     },
     "execution_count": 176,
     "metadata": {},
     "output_type": "execute_result"
    }
   ],
   "source": [
    "properPowerset([1,2,4])"
   ]
  },
  {
   "cell_type": "code",
   "execution_count": 177,
   "metadata": {},
   "outputs": [],
   "source": [
    "def getCandidateSet(txns: list):\n",
    "    \"\"\"\n",
    "    \n",
    "    candidate set F = D in Standard Candidate Order.\n",
    "\n",
    "    @param txns: database / list of transactions\n",
    "    @return: standard code table SCT\n",
    "    SCT = { itemName:(code,frequency) , ...}\n",
    "    \"\"\"\n",
    "    # get the unique items in transactions\n",
    "    d = {}\n",
    "    for tx1 in txns:\n",
    "        # calculate support\n",
    "        for ps in properPowerset(tx1):\n",
    "            key = vec2str(ps)\n",
    "            if(key not in d):\n",
    "                d[key] = 1\n",
    "            else:\n",
    "                d[key] += 1\n",
    "    \n",
    "    # Standard Candidate Order =  decreasing by support, decreasing by count, lexicographic\n",
    "    # sort items by their frequency\n",
    "    d = { k:v for k,v in sorted(d.items(), key=lambda x: str2vec(x[0]))}\n",
    "    #by count\n",
    "    d = { k:v for k,v in sorted(d.items(), key=lambda x: count_spaces(x[0]), reverse=True)}\n",
    "    # by support(X) = number of transactions that contain X\n",
    "    d = { k:v for k,v in sorted(d.items(), key=lambda x: x[1], reverse=True)}\n",
    "    # print(d)\n",
    "\n",
    "    return d\n",
    "\n",
    "\n",
    "F = getCandidateSet(txns)"
   ]
  },
  {
   "cell_type": "code",
   "execution_count": 178,
   "metadata": {},
   "outputs": [],
   "source": [
    "# F"
   ]
  },
  {
   "cell_type": "code",
   "execution_count": 179,
   "metadata": {},
   "outputs": [],
   "source": [
    "def LDCT(txns, encoding, xdict):\n",
    "    ret = 0\n",
    "    for txn in txns:\n",
    "        for X in encoding[vec2str(txn)]:\n",
    "            ret += np.log(sum(xdict.values())/xdict[X])\n",
    "\n",
    "    return ret\n",
    "            "
   ]
  },
  {
   "cell_type": "code",
   "execution_count": 180,
   "metadata": {},
   "outputs": [],
   "source": [
    "def LCTD(txns, encoding, xdict):\n",
    "    # L(CT | D) = sum                         < L(code_ST(X))(->????!!!!!) + L(code_CT(X)) >\n",
    "    #                (for X ∈ CT :usage(X)!=0)  \n",
    "    ret = 0\n",
    "    for X in xdict.keys():\n",
    "        LcodeSTX = 0\n",
    "        for item in X:\n",
    "            LcodeSTX += np.log(sum(SCT.values())/SCT[item])\n",
    "        ret += LcodeSTX\n",
    "        ret += np.log(sum(xdict.values())/xdict[X])\n",
    "\n",
    "    return ret"
   ]
  },
  {
   "cell_type": "code",
   "execution_count": 181,
   "metadata": {},
   "outputs": [],
   "source": [
    "def getL(txns: list, encoding, xdict):\n",
    "    return LDCT(txns, encoding, xdict) + LCTD(txns, encoding, xdict)"
   ]
  },
  {
   "cell_type": "code",
   "execution_count": 182,
   "metadata": {},
   "outputs": [],
   "source": [
    "def coverall(CT: dict, txns: list):\n",
    "    '''\n",
    "    @return a dict of items and their cover, a dict of cover stats {X: (usage)}\n",
    "\n",
    "    @definition usage: the number of transactions that contain X in their cover\n",
    "    '''\n",
    "    xCov = {}\n",
    "    covDict = {}\n",
    "    for txn in txns:\n",
    "        cov = getCover(txn, CT)\n",
    "        # print(cov)\n",
    "        # print(txn)\n",
    "        # txn.sort()\n",
    "        # print(txn)\n",
    "        # is tuple() better than vec2str() ?\n",
    "        covDict[vec2str(txn)] = cov\n",
    "        for X in cov:\n",
    "            if X not in xCov:\n",
    "                xCov[X] = 1\n",
    "            else:\n",
    "                xCov[X] += 1\n",
    "    \n",
    "    return covDict, xCov"
   ]
  },
  {
   "cell_type": "code",
   "execution_count": 185,
   "metadata": {},
   "outputs": [],
   "source": [
    "a,b = coverall(SCT, txns)"
   ]
  },
  {
   "cell_type": "code",
   "execution_count": 188,
   "metadata": {},
   "outputs": [
    {
     "ename": "KeyError",
     "evalue": "'1 17 18 102'",
     "output_type": "error",
     "traceback": [
      "\u001b[0;31m---------------------------------------------------------------------------\u001b[0m",
      "\u001b[0;31mKeyError\u001b[0m                                  Traceback (most recent call last)",
      "\u001b[0;32m/tmp/ipykernel_7815/249573995.py\u001b[0m in \u001b[0;36m<module>\u001b[0;34m\u001b[0m\n\u001b[0;32m----> 1\u001b[0;31m \u001b[0mLDCT\u001b[0m\u001b[0;34m(\u001b[0m\u001b[0mtxns\u001b[0m\u001b[0;34m,\u001b[0m \u001b[0mSCT\u001b[0m\u001b[0;34m,\u001b[0m \u001b[0mb\u001b[0m\u001b[0;34m)\u001b[0m\u001b[0;34m\u001b[0m\u001b[0;34m\u001b[0m\u001b[0m\n\u001b[0m",
      "\u001b[0;32m/tmp/ipykernel_7815/3693506754.py\u001b[0m in \u001b[0;36mLDCT\u001b[0;34m(txns, encoding, xdict)\u001b[0m\n\u001b[1;32m      2\u001b[0m     \u001b[0mret\u001b[0m \u001b[0;34m=\u001b[0m \u001b[0;36m0\u001b[0m\u001b[0;34m\u001b[0m\u001b[0;34m\u001b[0m\u001b[0m\n\u001b[1;32m      3\u001b[0m     \u001b[0;32mfor\u001b[0m \u001b[0mtxn\u001b[0m \u001b[0;32min\u001b[0m \u001b[0mtxns\u001b[0m\u001b[0;34m:\u001b[0m\u001b[0;34m\u001b[0m\u001b[0;34m\u001b[0m\u001b[0m\n\u001b[0;32m----> 4\u001b[0;31m         \u001b[0;32mfor\u001b[0m \u001b[0mX\u001b[0m \u001b[0;32min\u001b[0m \u001b[0mencoding\u001b[0m\u001b[0;34m[\u001b[0m\u001b[0mvec2str\u001b[0m\u001b[0;34m(\u001b[0m\u001b[0mtxn\u001b[0m\u001b[0;34m)\u001b[0m\u001b[0;34m]\u001b[0m\u001b[0;34m:\u001b[0m\u001b[0;34m\u001b[0m\u001b[0;34m\u001b[0m\u001b[0m\n\u001b[0m\u001b[1;32m      5\u001b[0m             \u001b[0mret\u001b[0m \u001b[0;34m+=\u001b[0m \u001b[0mnp\u001b[0m\u001b[0;34m.\u001b[0m\u001b[0mlog\u001b[0m\u001b[0;34m(\u001b[0m\u001b[0msum\u001b[0m\u001b[0;34m(\u001b[0m\u001b[0mxdict\u001b[0m\u001b[0;34m.\u001b[0m\u001b[0mvalues\u001b[0m\u001b[0;34m(\u001b[0m\u001b[0;34m)\u001b[0m\u001b[0;34m)\u001b[0m\u001b[0;34m/\u001b[0m\u001b[0mxdict\u001b[0m\u001b[0;34m[\u001b[0m\u001b[0mX\u001b[0m\u001b[0;34m]\u001b[0m\u001b[0;34m)\u001b[0m\u001b[0;34m\u001b[0m\u001b[0;34m\u001b[0m\u001b[0m\n\u001b[1;32m      6\u001b[0m \u001b[0;34m\u001b[0m\u001b[0m\n",
      "\u001b[0;31mKeyError\u001b[0m: '1 17 18 102'"
     ]
    }
   ],
   "source": [
    "LDCT(txns, SCT, b)"
   ]
  },
  {
   "cell_type": "code",
   "execution_count": 189,
   "metadata": {},
   "outputs": [],
   "source": [
    "def krimp(txns: list, F: dict, SCT: dict):\n",
    "    \"\"\"\n",
    "    <algorithm 3>\n",
    "    Our main KRIMP algorithm\n",
    "    @param txns: database / list of transactions\n",
    "    @param F: candidate set F\n",
    "    @param SCT: standard code table SCT\n",
    "    @return: compressed code table CT\n",
    "    \"\"\"\n",
    "\n",
    "    CT = SCT.copy()\n",
    "    for key, value in F.items():\n",
    "        # CTc ← (CT ∪ F) in Standard Cover Order\n",
    "        CTc = CT.copy()\n",
    "        CTc[key] = value\n",
    "        # cover every txn and get cover stats\n",
    "        encoding_ctc, dictx_ctc = coverall(CTc, txns)\n",
    "        encoding_ct, dictx_ct = coverall(CT, txns)\n",
    "        if getL(txns, encoding_ctc, dictx_ctc) < getL(encoding_ct, dictx_ct, CT):\n",
    "            CT = CTc\n",
    "\n",
    "    return CT"
   ]
  },
  {
   "cell_type": "code",
   "execution_count": 190,
   "metadata": {},
   "outputs": [
    {
     "ename": "KeyError",
     "evalue": "'1   1 7   1 8   1 0 2'",
     "output_type": "error",
     "traceback": [
      "\u001b[0;31m---------------------------------------------------------------------------\u001b[0m",
      "\u001b[0;31mKeyError\u001b[0m                                  Traceback (most recent call last)",
      "\u001b[0;32m/tmp/ipykernel_7815/1768068088.py\u001b[0m in \u001b[0;36m<module>\u001b[0;34m\u001b[0m\n\u001b[0;32m----> 1\u001b[0;31m \u001b[0mans\u001b[0m \u001b[0;34m=\u001b[0m \u001b[0mkrimp\u001b[0m\u001b[0;34m(\u001b[0m\u001b[0mtxns\u001b[0m\u001b[0;34m,\u001b[0m \u001b[0mF\u001b[0m\u001b[0;34m,\u001b[0m \u001b[0mSCT\u001b[0m\u001b[0;34m)\u001b[0m\u001b[0;34m\u001b[0m\u001b[0;34m\u001b[0m\u001b[0m\n\u001b[0m",
      "\u001b[0;32m/tmp/ipykernel_7815/3500472700.py\u001b[0m in \u001b[0;36mkrimp\u001b[0;34m(txns, F, SCT)\u001b[0m\n\u001b[1;32m     17\u001b[0m         \u001b[0mencoding_ctc\u001b[0m\u001b[0;34m,\u001b[0m \u001b[0mdictx_ctc\u001b[0m \u001b[0;34m=\u001b[0m \u001b[0mcoverall\u001b[0m\u001b[0;34m(\u001b[0m\u001b[0mCTc\u001b[0m\u001b[0;34m,\u001b[0m \u001b[0mtxns\u001b[0m\u001b[0;34m)\u001b[0m\u001b[0;34m\u001b[0m\u001b[0;34m\u001b[0m\u001b[0m\n\u001b[1;32m     18\u001b[0m         \u001b[0mencoding_ct\u001b[0m\u001b[0;34m,\u001b[0m \u001b[0mdictx_ct\u001b[0m \u001b[0;34m=\u001b[0m \u001b[0mcoverall\u001b[0m\u001b[0;34m(\u001b[0m\u001b[0mCT\u001b[0m\u001b[0;34m,\u001b[0m \u001b[0mtxns\u001b[0m\u001b[0;34m)\u001b[0m\u001b[0;34m\u001b[0m\u001b[0;34m\u001b[0m\u001b[0m\n\u001b[0;32m---> 19\u001b[0;31m         \u001b[0;32mif\u001b[0m \u001b[0mgetL\u001b[0m\u001b[0;34m(\u001b[0m\u001b[0mtxns\u001b[0m\u001b[0;34m,\u001b[0m \u001b[0mencoding_ctc\u001b[0m\u001b[0;34m,\u001b[0m \u001b[0mdictx_ctc\u001b[0m\u001b[0;34m)\u001b[0m \u001b[0;34m<\u001b[0m \u001b[0mgetL\u001b[0m\u001b[0;34m(\u001b[0m\u001b[0mencoding_ct\u001b[0m\u001b[0;34m,\u001b[0m \u001b[0mdictx_ct\u001b[0m\u001b[0;34m,\u001b[0m \u001b[0mCT\u001b[0m\u001b[0;34m)\u001b[0m\u001b[0;34m:\u001b[0m\u001b[0;34m\u001b[0m\u001b[0;34m\u001b[0m\u001b[0m\n\u001b[0m\u001b[1;32m     20\u001b[0m             \u001b[0mCT\u001b[0m \u001b[0;34m=\u001b[0m \u001b[0mCTc\u001b[0m\u001b[0;34m\u001b[0m\u001b[0;34m\u001b[0m\u001b[0m\n\u001b[1;32m     21\u001b[0m \u001b[0;34m\u001b[0m\u001b[0m\n",
      "\u001b[0;32m/tmp/ipykernel_7815/812941403.py\u001b[0m in \u001b[0;36mgetL\u001b[0;34m(txns, encoding, xdict)\u001b[0m\n\u001b[1;32m      1\u001b[0m \u001b[0;32mdef\u001b[0m \u001b[0mgetL\u001b[0m\u001b[0;34m(\u001b[0m\u001b[0mtxns\u001b[0m\u001b[0;34m:\u001b[0m \u001b[0mlist\u001b[0m\u001b[0;34m,\u001b[0m \u001b[0mencoding\u001b[0m\u001b[0;34m,\u001b[0m \u001b[0mxdict\u001b[0m\u001b[0;34m)\u001b[0m\u001b[0;34m:\u001b[0m\u001b[0;34m\u001b[0m\u001b[0;34m\u001b[0m\u001b[0m\n\u001b[0;32m----> 2\u001b[0;31m     \u001b[0;32mreturn\u001b[0m \u001b[0mLDCT\u001b[0m\u001b[0;34m(\u001b[0m\u001b[0mtxns\u001b[0m\u001b[0;34m,\u001b[0m \u001b[0mencoding\u001b[0m\u001b[0;34m,\u001b[0m \u001b[0mxdict\u001b[0m\u001b[0;34m)\u001b[0m \u001b[0;34m+\u001b[0m \u001b[0mLCTD\u001b[0m\u001b[0;34m(\u001b[0m\u001b[0mtxns\u001b[0m\u001b[0;34m,\u001b[0m \u001b[0mencoding\u001b[0m\u001b[0;34m,\u001b[0m \u001b[0mxdict\u001b[0m\u001b[0;34m)\u001b[0m\u001b[0;34m\u001b[0m\u001b[0;34m\u001b[0m\u001b[0m\n\u001b[0m",
      "\u001b[0;32m/tmp/ipykernel_7815/3693506754.py\u001b[0m in \u001b[0;36mLDCT\u001b[0;34m(txns, encoding, xdict)\u001b[0m\n\u001b[1;32m      2\u001b[0m     \u001b[0mret\u001b[0m \u001b[0;34m=\u001b[0m \u001b[0;36m0\u001b[0m\u001b[0;34m\u001b[0m\u001b[0;34m\u001b[0m\u001b[0m\n\u001b[1;32m      3\u001b[0m     \u001b[0;32mfor\u001b[0m \u001b[0mtxn\u001b[0m \u001b[0;32min\u001b[0m \u001b[0mtxns\u001b[0m\u001b[0;34m:\u001b[0m\u001b[0;34m\u001b[0m\u001b[0;34m\u001b[0m\u001b[0m\n\u001b[0;32m----> 4\u001b[0;31m         \u001b[0;32mfor\u001b[0m \u001b[0mX\u001b[0m \u001b[0;32min\u001b[0m \u001b[0mencoding\u001b[0m\u001b[0;34m[\u001b[0m\u001b[0mvec2str\u001b[0m\u001b[0;34m(\u001b[0m\u001b[0mtxn\u001b[0m\u001b[0;34m)\u001b[0m\u001b[0;34m]\u001b[0m\u001b[0;34m:\u001b[0m\u001b[0;34m\u001b[0m\u001b[0;34m\u001b[0m\u001b[0m\n\u001b[0m\u001b[1;32m      5\u001b[0m             \u001b[0mret\u001b[0m \u001b[0;34m+=\u001b[0m \u001b[0mnp\u001b[0m\u001b[0;34m.\u001b[0m\u001b[0mlog\u001b[0m\u001b[0;34m(\u001b[0m\u001b[0msum\u001b[0m\u001b[0;34m(\u001b[0m\u001b[0mxdict\u001b[0m\u001b[0;34m.\u001b[0m\u001b[0mvalues\u001b[0m\u001b[0;34m(\u001b[0m\u001b[0;34m)\u001b[0m\u001b[0;34m)\u001b[0m\u001b[0;34m/\u001b[0m\u001b[0mxdict\u001b[0m\u001b[0;34m[\u001b[0m\u001b[0mX\u001b[0m\u001b[0;34m]\u001b[0m\u001b[0;34m)\u001b[0m\u001b[0;34m\u001b[0m\u001b[0;34m\u001b[0m\u001b[0m\n\u001b[1;32m      6\u001b[0m \u001b[0;34m\u001b[0m\u001b[0m\n",
      "\u001b[0;31mKeyError\u001b[0m: '1   1 7   1 8   1 0 2'"
     ]
    }
   ],
   "source": [
    "ans = krimp(txns, F, SCT)"
   ]
  },
  {
   "cell_type": "code",
   "execution_count": null,
   "metadata": {},
   "outputs": [],
   "source": []
  }
 ],
 "metadata": {
  "interpreter": {
   "hash": "aee8b7b246df8f9039afb4144a1f6fd8d2ca17a180786b69acc140d282b71a49"
  },
  "kernelspec": {
   "display_name": "Python 3.9.5 64-bit",
   "language": "python",
   "name": "python3"
  },
  "language_info": {
   "codemirror_mode": {
    "name": "ipython",
    "version": 3
   },
   "file_extension": ".py",
   "mimetype": "text/x-python",
   "name": "python",
   "nbconvert_exporter": "python",
   "pygments_lexer": "ipython3",
   "version": "3.7.11"
  },
  "orig_nbformat": 4
 },
 "nbformat": 4,
 "nbformat_minor": 2
}
