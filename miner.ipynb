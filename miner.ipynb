{
 "cells": [
  {
   "cell_type": "code",
   "execution_count": 4,
   "metadata": {},
   "outputs": [],
   "source": [
    "import numpy as np"
   ]
  },
  {
   "cell_type": "code",
   "execution_count": 5,
   "metadata": {},
   "outputs": [],
   "source": [
    "class Itemset:\n",
    "    def __init__(self, items: list):\n",
    "        self.items = items\n",
    "        self.size = len(items)\n",
    "    \n",
    "    def getItems(self):\n",
    "        return self.items\n",
    "    def getSize(self):\n",
    "        return self.size"
   ]
  },
  {
   "cell_type": "code",
   "execution_count": 6,
   "metadata": {},
   "outputs": [],
   "source": [
    "# read all transactions from comma-separated file\n",
    "def read_transactions(filename):\n",
    "    transactions = []\n",
    "    with open(filename, 'r') as f:\n",
    "        for line in f:\n",
    "            transactions.append(line.strip().split(','))\n",
    "    return transactions"
   ]
  },
  {
   "cell_type": "code",
   "execution_count": 7,
   "metadata": {},
   "outputs": [],
   "source": [
    "# convert all elements in txn from string to int\n",
    "def convert_to_int(txn):\n",
    "    for i in range(len(txn)):\n",
    "        for j in range(len(txn[i])):\n",
    "            txn[i][j] = int(txn[i][j])\n",
    "    return txn\n"
   ]
  },
  {
   "cell_type": "code",
   "execution_count": 8,
   "metadata": {},
   "outputs": [],
   "source": [
    "def convert_to_objects(txn):\n",
    "    ret = []\n",
    "    for i in range(len(txn)):\n",
    "        ret.append(Itemset(txn[i]))\n",
    "    return ret"
   ]
  },
  {
   "cell_type": "code",
   "execution_count": 9,
   "metadata": {},
   "outputs": [],
   "source": [
    "def vec2str(vec):\n",
    "    ret = ''\n",
    "    for i in range(len(vec)):\n",
    "        ret += str(vec[i]) + ' '\n",
    "    ret = ret.rstrip()\n",
    "    return ret\n",
    "\n",
    "def str2vec(str: str):\n",
    "    ret = []\n",
    "    for i in range(len(str.split(' '))):\n",
    "        ret.append(int(str.split(' ')[i]))\n",
    "    return ret\n",
    "\n",
    "def count_spaces(str: str):\n",
    "    return str.count(' ')"
   ]
  },
  {
   "cell_type": "code",
   "execution_count": 10,
   "metadata": {},
   "outputs": [],
   "source": [
    "txns = read_transactions('data/grocery.txt')\n",
    "txns = convert_to_int(txns)\n",
    "txns_itemsets = convert_to_objects(txns)"
   ]
  },
  {
   "cell_type": "code",
   "execution_count": 11,
   "metadata": {},
   "outputs": [],
   "source": [
    "# txns\n",
    "# txn_itemsets # find a better name for this"
   ]
  },
  {
   "cell_type": "code",
   "execution_count": 12,
   "metadata": {},
   "outputs": [
    {
     "data": {
      "text/plain": [
       "dict_items([('1', 2), ('10', 2), ('5', 2), ('20', 1), ('1 20', 1), ('5 7', 1), ('9 10', 1), ('1 21', 1)])"
      ]
     },
     "execution_count": 12,
     "metadata": {},
     "output_type": "execute_result"
    }
   ],
   "source": [
    "# sample dictionary\n",
    "d = {'1': 24, '10': 86, '5': 33, '20': 34, '1 20': 34, '5 7': 36, '9 10': 37,'1 21': 37}\n",
    "d = {'1': 2, '10': 2, '5': 2, '20': 1, '1 20': 1, '5 7': 1, '9 10': 1,'1 21': 1}\n",
    "d.items()\n"
   ]
  },
  {
   "cell_type": "code",
   "execution_count": 13,
   "metadata": {},
   "outputs": [],
   "source": [
    "# SCO = decreasing by count, decreasing by support, lexicographic\n",
    "# Try to test more thoroughly\n",
    "# lexicographic\n",
    "# d = { k:v for k,v in sorted(d.items(), key=lambda x: x[0])}\n",
    "d = { k:v for k,v in sorted(d.items(), key=lambda x: str2vec(x[0]))}\n",
    "# by support\n",
    "d = { k:v for k,v in sorted(d.items(), key=lambda x: x[1], reverse=True)}\n",
    "#by count\n",
    "d = { k:v for k,v in sorted(d.items(), key=lambda x: count_spaces(x[0]), reverse=True)}"
   ]
  },
  {
   "cell_type": "code",
   "execution_count": 14,
   "metadata": {},
   "outputs": [
    {
     "data": {
      "text/plain": [
       "{'1 20': 1, '1 21': 1, '5 7': 1, '9 10': 1, '1': 2, '5': 2, '10': 2, '20': 1}"
      ]
     },
     "execution_count": 14,
     "metadata": {},
     "output_type": "execute_result"
    }
   ],
   "source": [
    "d"
   ]
  },
  {
   "cell_type": "code",
   "execution_count": 15,
   "metadata": {},
   "outputs": [],
   "source": [
    "def getStandardCodeTable(txns: list):\n",
    "    \"\"\"\n",
    "    <algorithm 1>\n",
    "    \n",
    "    Get the standard code table from the database.\n",
    "\n",
    "    @param txns: database / list of transactions\n",
    "    @return: standard code table SCT\n",
    "    SCT = { itemName:(code,frequency) , ...}\n",
    "    \"\"\"\n",
    "    # get the unique items in transactions\n",
    "    d = {}\n",
    "    for tx in txns:\n",
    "        for item in tx:\n",
    "            key = vec2str([item])\n",
    "            if(key not in d):\n",
    "                d[key] = 1\n",
    "            else:\n",
    "                d[key]+=1\n",
    "    \n",
    "    # sort items by their frequency\n",
    "    d = { k:v for k,v in sorted(d.items(), key=lambda x: str2vec(x[0]))}\n",
    "    # by support\n",
    "    d = { k:v for k,v in sorted(d.items(), key=lambda x: x[1], reverse=True)}\n",
    "    #by count\n",
    "    d = { k:v for k,v in sorted(d.items(), key=lambda x: count_spaces(x[0]), reverse=True)}\n",
    "    # print(d)\n",
    "\n",
    "    # get the standard code table\n",
    "    code_table = {}\n",
    "    actual_code = 0\n",
    "    for key, value in d.items():\n",
    "        code_table[key] = (actual_code, value)\n",
    "        actual_code+=1\n",
    "\n",
    "    return code_table\n",
    "\n",
    "\n",
    "global SCT, CT\n",
    "SCT = getStandardCodeTable(txns)\n",
    "CT = SCT.copy()"
   ]
  },
  {
   "cell_type": "code",
   "execution_count": 16,
   "metadata": {},
   "outputs": [],
   "source": [
    "# SCT"
   ]
  },
  {
   "cell_type": "code",
   "execution_count": 17,
   "metadata": {},
   "outputs": [],
   "source": [
    "def support(X):\n",
    "    # [TODO] How do we get SCT here properly?\n",
    "    # look into OOP based approach\n",
    "    return SCT[X][1]/len(txns)"
   ]
  },
  {
   "cell_type": "code",
   "execution_count": 18,
   "metadata": {},
   "outputs": [],
   "source": [
    "def compareSCO(X1, X2):\n",
    "    '''\n",
    "    Compare two transactions in the **Standard Cover Order**\n",
    "    '''\n",
    "    if len(X1) != len(X2):\n",
    "        if len(X1) > len(X2):\n",
    "            return -1\n",
    "        else:\n",
    "            return 1\n",
    "    elif support(X1) != support(X2):\n",
    "        if support(X1) > support(X2):\n",
    "            return -1\n",
    "        else:\n",
    "            return 1\n",
    "    else:\n",
    "        for i in range(len(X1)):\n",
    "            if X1[i] != X2[i]:\n",
    "                if X1[i] < X2[i]:\n",
    "                    return -1\n",
    "                else:\n",
    "                    return 1\n",
    "        return 0"
   ]
  },
  {
   "cell_type": "code",
   "execution_count": 32,
   "metadata": {},
   "outputs": [],
   "source": [
    "def getStandardCover(txn: list, CT: dict):\n",
    "    '''\n",
    "    <algorithm 2>\n",
    "\n",
    "    Get the standard cover of a transaction.\n",
    "    \n",
    "    @param txn: A transaction\n",
    "    @param CT:  code table CT\n",
    "    @return: a set, standard cover\n",
    "    CT = { (str)\"items\":(int)code, ...}\n",
    "    '''\n",
    "    # get the standard code\n",
    "    code = set()\n",
    "    \n",
    "    # S ← smallest element X of CT in Standard Cover Order for which X ⊆ t\n",
    "    for k,v in CT.items():\n",
    "        if set(str2vec(k)).issubset(set(txn)):\n",
    "            code = set(str2vec(k))\n",
    "            break\n",
    "    # if t \\ S = ∅ then\n",
    "    if len(set(txn) - code) == 0:\n",
    "        return code\n",
    "    else:\n",
    "        return code.union(getStandardCover(list(set(txn) - code), CT))"
   ]
  },
  {
   "cell_type": "code",
   "execution_count": 33,
   "metadata": {},
   "outputs": [
    {
     "name": "stdout",
     "output_type": "stream",
     "text": [
      "{1, 18, 102, 17}\n",
      "{1}\n",
      "3\n",
      "{17, 18, 102}\n",
      "{17}\n",
      "2\n",
      "{18, 102}\n",
      "{18}\n",
      "1\n"
     ]
    }
   ],
   "source": [
    "test = getStandardCover(txns[0], CT)"
   ]
  },
  {
   "cell_type": "code",
   "execution_count": 34,
   "metadata": {},
   "outputs": [
    {
     "data": {
      "text/plain": [
       "{1, 17, 18, 102}"
      ]
     },
     "execution_count": 34,
     "metadata": {},
     "output_type": "execute_result"
    }
   ],
   "source": [
    "test"
   ]
  },
  {
   "cell_type": "code",
   "execution_count": null,
   "metadata": {},
   "outputs": [],
   "source": []
  }
 ],
 "metadata": {
  "interpreter": {
   "hash": "aee8b7b246df8f9039afb4144a1f6fd8d2ca17a180786b69acc140d282b71a49"
  },
  "kernelspec": {
   "display_name": "Python 3.9.5 64-bit",
   "language": "python",
   "name": "python3"
  },
  "language_info": {
   "codemirror_mode": {
    "name": "ipython",
    "version": 3
   },
   "file_extension": ".py",
   "mimetype": "text/x-python",
   "name": "python",
   "nbconvert_exporter": "python",
   "pygments_lexer": "ipython3",
   "version": "3.7.11"
  },
  "orig_nbformat": 4
 },
 "nbformat": 4,
 "nbformat_minor": 2
}
