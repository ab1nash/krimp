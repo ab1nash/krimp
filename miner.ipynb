{
 "cells": [
  {
   "cell_type": "code",
   "execution_count": 44,
   "metadata": {},
   "outputs": [],
   "source": [
    "import numpy as np\n",
    "from itertools import chain, combinations"
   ]
  },
  {
   "cell_type": "code",
   "execution_count": 45,
   "metadata": {},
   "outputs": [],
   "source": [
    "class Itemset:\n",
    "    def __init__(self, items: list):\n",
    "        self.items = items\n",
    "        self.size = len(items)\n",
    "    \n",
    "    def getItems(self):\n",
    "        return self.items\n",
    "    def getSize(self):\n",
    "        return self.size"
   ]
  },
  {
   "cell_type": "code",
   "execution_count": 46,
   "metadata": {},
   "outputs": [],
   "source": [
    "# read all transactions from comma-separated file\n",
    "def read_transactions(filename):\n",
    "    transactions = []\n",
    "    with open(filename, 'r') as f:\n",
    "        for line in f:\n",
    "            transactions.append(line.strip().split(','))\n",
    "    return transactions"
   ]
  },
  {
   "cell_type": "code",
   "execution_count": 47,
   "metadata": {},
   "outputs": [],
   "source": [
    "# convert all elements in txn from string to int\n",
    "def convert_to_int(txns):\n",
    "    for i in range(len(txns)):\n",
    "        for j in range(len(txns[i])):\n",
    "            txns[i][j] = int(txns[i][j])\n",
    "        txns[i].sort()\n",
    "    return txns\n"
   ]
  },
  {
   "cell_type": "code",
   "execution_count": 48,
   "metadata": {},
   "outputs": [],
   "source": [
    "def convert_to_objects(txn):\n",
    "    ret = []\n",
    "    for i in range(len(txn)):\n",
    "        ret.append(Itemset(txn[i]))\n",
    "    return ret"
   ]
  },
  {
   "cell_type": "code",
   "execution_count": 49,
   "metadata": {},
   "outputs": [],
   "source": [
    "def vec2str(vec):\n",
    "    ret = ''\n",
    "    for i in range(len(vec)):\n",
    "        ret += str(vec[i]) + ' '\n",
    "    ret = ret.rstrip()\n",
    "    return ret\n",
    "\n",
    "def str2vec(str: str):\n",
    "    ret = []\n",
    "    for i in range(len(str.split(' '))):\n",
    "        ret.append(int(str.split(' ')[i]))\n",
    "    return ret\n",
    "\n",
    "def count_spaces(str: str):\n",
    "    return str.count(' ')"
   ]
  },
  {
   "cell_type": "code",
   "execution_count": 50,
   "metadata": {},
   "outputs": [],
   "source": [
    "txns = read_transactions('data/grocery_500.txt')\n",
    "txns = txns[:100]\n",
    "txns = convert_to_int(txns)\n",
    "txns_itemsets = convert_to_objects(txns)"
   ]
  },
  {
   "cell_type": "code",
   "execution_count": 51,
   "metadata": {},
   "outputs": [
    {
     "data": {
      "text/plain": [
       "'1 2   1 5'"
      ]
     },
     "execution_count": 51,
     "metadata": {},
     "output_type": "execute_result"
    }
   ],
   "source": [
    "vec2str(\"12 15\")"
   ]
  },
  {
   "cell_type": "code",
   "execution_count": 52,
   "metadata": {},
   "outputs": [
    {
     "data": {
      "text/plain": [
       "[[1, 17, 18, 102],\n",
       " [1, 23, 79],\n",
       " [24, 27],\n",
       " [18, 95],\n",
       " [37, 61],\n",
       " [8, 44],\n",
       " [1, 4, 18],\n",
       " [1, 37],\n",
       " [7, 82],\n",
       " [8, 37, 73],\n",
       " [3, 74],\n",
       " [1, 10],\n",
       " [0, 34],\n",
       " [15, 52],\n",
       " [4, 18],\n",
       " [21, 38],\n",
       " [35, 129],\n",
       " [4],\n",
       " [76, 84],\n",
       " [24, 94],\n",
       " [3, 95],\n",
       " [0, 1, 2],\n",
       " [4, 13, 31],\n",
       " [3, 70],\n",
       " [1, 4, 12, 13],\n",
       " [1, 21, 23],\n",
       " [4],\n",
       " [69, 73],\n",
       " [4, 16, 151],\n",
       " [1, 158],\n",
       " [70, 147],\n",
       " [1, 4, 8, 9, 13, 33, 49],\n",
       " [20, 50, 62, 106],\n",
       " [0, 17, 21, 37, 55, 67, 68],\n",
       " [17, 36, 43],\n",
       " [0, 17],\n",
       " [23, 145],\n",
       " [100, 150],\n",
       " [2, 26, 63],\n",
       " [75, 131],\n",
       " [14, 16],\n",
       " [8, 16],\n",
       " [2, 4, 137],\n",
       " [23, 30],\n",
       " [1, 3, 8, 17, 36, 39, 137],\n",
       " [4, 6, 16, 64],\n",
       " [8, 17],\n",
       " [0, 4, 21, 65, 70],\n",
       " [19, 74],\n",
       " [1, 40],\n",
       " [1, 35],\n",
       " [56, 68, 82, 130],\n",
       " [21, 128],\n",
       " [3, 122],\n",
       " [16, 58, 113],\n",
       " [1, 64],\n",
       " [0, 74],\n",
       " [73, 122],\n",
       " [1, 17, 18, 49],\n",
       " [24, 101],\n",
       " [15, 20],\n",
       " [1, 4],\n",
       " [1, 6],\n",
       " [7, 79],\n",
       " [4, 11, 13],\n",
       " [49, 63],\n",
       " [9, 31],\n",
       " [2, 127],\n",
       " [2, 4, 8, 72, 128],\n",
       " [19, 81],\n",
       " [3, 4],\n",
       " [7, 17],\n",
       " [3, 21],\n",
       " [37, 50, 70],\n",
       " [44, 118],\n",
       " [48, 68],\n",
       " [15, 21],\n",
       " [25, 153],\n",
       " [20, 31],\n",
       " [24, 70],\n",
       " [4, 24, 94, 112],\n",
       " [10, 17, 35, 43],\n",
       " [4, 77],\n",
       " [0, 17, 44, 60],\n",
       " [10, 75],\n",
       " [11, 18],\n",
       " [7, 113],\n",
       " [1, 73],\n",
       " [4, 12, 21, 73],\n",
       " [37, 68],\n",
       " [9, 35],\n",
       " [44, 136],\n",
       " [17, 25, 49, 82],\n",
       " [14, 18, 73],\n",
       " [0, 3, 21, 41],\n",
       " [26, 70],\n",
       " [28, 59],\n",
       " [24, 63],\n",
       " [4, 18, 50, 61],\n",
       " [10, 11, 64, 79, 129]]"
      ]
     },
     "execution_count": 52,
     "metadata": {},
     "output_type": "execute_result"
    }
   ],
   "source": [
    "txns\n",
    "# txn_itemsets # find a better name for this"
   ]
  },
  {
   "cell_type": "code",
   "execution_count": 53,
   "metadata": {},
   "outputs": [
    {
     "data": {
      "text/plain": [
       "dict_items([('1', 2), ('10', 2), ('5', 2), ('20', 1), ('1 20', 1), ('5 7', 1), ('9 10', 1), ('1 21', 1)])"
      ]
     },
     "execution_count": 53,
     "metadata": {},
     "output_type": "execute_result"
    }
   ],
   "source": [
    "# sample dictionary\n",
    "d = {'1': 24, '10': 86, '5': 33, '20': 34, '1 20': 34, '5 7': 36, '9 10': 37,'1 21': 37}\n",
    "d = {'1': 2, '10': 2, '5': 2, '20': 1, '1 20': 1, '5 7': 1, '9 10': 1,'1 21': 1}\n",
    "d.items()\n"
   ]
  },
  {
   "cell_type": "code",
   "execution_count": 54,
   "metadata": {},
   "outputs": [],
   "source": [
    "# SCO = decreasing by count, decreasing by support, lexicographic\n",
    "# Try to test more thoroughly\n",
    "# lexicographic\n",
    "# d = { k:v for k,v in sorted(d.items(), key=lambda x: x[0])}\n",
    "d = { k:v for k,v in sorted(d.items(), key=lambda x: str2vec(x[0]))}\n",
    "# by support\n",
    "d = { k:v for k,v in sorted(d.items(), key=lambda x: x[1], reverse=True)}\n",
    "#by count\n",
    "d = { k:v for k,v in sorted(d.items(), key=lambda x: count_spaces(x[0]), reverse=True)}"
   ]
  },
  {
   "cell_type": "code",
   "execution_count": 55,
   "metadata": {},
   "outputs": [
    {
     "data": {
      "text/plain": [
       "{'1 20': 1, '1 21': 1, '5 7': 1, '9 10': 1, '1': 2, '5': 2, '10': 2, '20': 1}"
      ]
     },
     "execution_count": 55,
     "metadata": {},
     "output_type": "execute_result"
    }
   ],
   "source": [
    "d"
   ]
  },
  {
   "cell_type": "code",
   "execution_count": 56,
   "metadata": {},
   "outputs": [],
   "source": [
    "def getStandardCodeTable(txns: list):\n",
    "    \"\"\"\n",
    "    <algorithm 1>\n",
    "    \n",
    "    Get the standard code table from the database.\n",
    "\n",
    "    @param txns: database / list of transactions\n",
    "    @return: standard code table SCT\n",
    "    SCT = { itemName:(code,frequency) , ...}\n",
    "    \"\"\"\n",
    "    # get the unique items in transactions\n",
    "    d = {}\n",
    "    for tx in txns:\n",
    "        for item in tx:\n",
    "            key = vec2str([item])\n",
    "            if(key not in d):\n",
    "                d[key] = 1\n",
    "            else:\n",
    "                d[key]+=1\n",
    "    \n",
    "    # sort items by their frequency\n",
    "    d = { k:v for k,v in sorted(d.items(), key=lambda x: str2vec(x[0]))}\n",
    "    # by support\n",
    "    d = { k:v for k,v in sorted(d.items(), key=lambda x: x[1], reverse=True)}\n",
    "    #by count\n",
    "    d = { k:v for k,v in sorted(d.items(), key=lambda x: count_spaces(x[0]), reverse=True)}\n",
    "    # print(d)\n",
    "\n",
    "    # get the standard code table, we don't need the actual code rn\n",
    "    code_table = {}\n",
    "    # actual_code = 0\n",
    "    for key, value in d.items():\n",
    "        code_table[key] = value\n",
    "        # code_table[key] = (actual_code,value)\n",
    "        # actual_code+=1\n",
    "\n",
    "    return code_table\n",
    "\n",
    "\n",
    "global SCT\n",
    "SCT = getStandardCodeTable(txns)\n",
    "# CT = SCT.copy()"
   ]
  },
  {
   "cell_type": "code",
   "execution_count": 57,
   "metadata": {},
   "outputs": [
    {
     "data": {
      "text/plain": [
       "{'4': 19,\n",
       " '1': 18,\n",
       " '17': 11,\n",
       " '21': 9,\n",
       " '0': 8,\n",
       " '3': 8,\n",
       " '18': 8,\n",
       " '8': 7,\n",
       " '24': 6,\n",
       " '37': 6,\n",
       " '70': 6,\n",
       " '73': 6,\n",
       " '2': 5,\n",
       " '16': 5,\n",
       " '7': 4,\n",
       " '10': 4,\n",
       " '13': 4,\n",
       " '23': 4,\n",
       " '35': 4,\n",
       " '44': 4,\n",
       " '49': 4,\n",
       " '68': 4,\n",
       " '9': 3,\n",
       " '11': 3,\n",
       " '15': 3,\n",
       " '20': 3,\n",
       " '31': 3,\n",
       " '50': 3,\n",
       " '63': 3,\n",
       " '64': 3,\n",
       " '74': 3,\n",
       " '79': 3,\n",
       " '82': 3,\n",
       " '6': 2,\n",
       " '12': 2,\n",
       " '14': 2,\n",
       " '19': 2,\n",
       " '25': 2,\n",
       " '26': 2,\n",
       " '36': 2,\n",
       " '43': 2,\n",
       " '61': 2,\n",
       " '75': 2,\n",
       " '94': 2,\n",
       " '95': 2,\n",
       " '113': 2,\n",
       " '122': 2,\n",
       " '128': 2,\n",
       " '129': 2,\n",
       " '137': 2,\n",
       " '27': 1,\n",
       " '28': 1,\n",
       " '30': 1,\n",
       " '33': 1,\n",
       " '34': 1,\n",
       " '38': 1,\n",
       " '39': 1,\n",
       " '40': 1,\n",
       " '41': 1,\n",
       " '48': 1,\n",
       " '52': 1,\n",
       " '55': 1,\n",
       " '56': 1,\n",
       " '58': 1,\n",
       " '59': 1,\n",
       " '60': 1,\n",
       " '62': 1,\n",
       " '65': 1,\n",
       " '67': 1,\n",
       " '69': 1,\n",
       " '72': 1,\n",
       " '76': 1,\n",
       " '77': 1,\n",
       " '81': 1,\n",
       " '84': 1,\n",
       " '100': 1,\n",
       " '101': 1,\n",
       " '102': 1,\n",
       " '106': 1,\n",
       " '112': 1,\n",
       " '118': 1,\n",
       " '127': 1,\n",
       " '130': 1,\n",
       " '131': 1,\n",
       " '136': 1,\n",
       " '145': 1,\n",
       " '147': 1,\n",
       " '150': 1,\n",
       " '151': 1,\n",
       " '153': 1,\n",
       " '158': 1}"
      ]
     },
     "execution_count": 57,
     "metadata": {},
     "output_type": "execute_result"
    }
   ],
   "source": [
    "SCT"
   ]
  },
  {
   "cell_type": "code",
   "execution_count": 58,
   "metadata": {},
   "outputs": [],
   "source": [
    "def support(X):\n",
    "    # [TODO] How do we get SCT here properly?\n",
    "    # look into OOP based approach\n",
    "    return SCT[X]/len(txns)"
   ]
  },
  {
   "cell_type": "code",
   "execution_count": 59,
   "metadata": {},
   "outputs": [],
   "source": [
    "def compareSCO(X1, X2):\n",
    "    '''\n",
    "    Compare two transactions in the **Standard Cover Order**\n",
    "    '''\n",
    "    if len(X1) != len(X2):\n",
    "        if len(X1) > len(X2):\n",
    "            return -1\n",
    "        else:\n",
    "            return 1\n",
    "    elif support(X1) != support(X2):\n",
    "        if support(X1) > support(X2):\n",
    "            return -1\n",
    "        else:\n",
    "            return 1\n",
    "    else:\n",
    "        for i in range(len(X1)):\n",
    "            if X1[i] != X2[i]:\n",
    "                if X1[i] < X2[i]:\n",
    "                    return -1\n",
    "                else:\n",
    "                    return 1\n",
    "        return 0"
   ]
  },
  {
   "cell_type": "code",
   "execution_count": 60,
   "metadata": {},
   "outputs": [],
   "source": [
    "def strset2intset(strset: set):\n",
    "    ret = np.array([])\n",
    "    for el in strset:\n",
    "        ret = np.append(ret,str2vec(el))\n",
    "    return set(np.ravel(ret))"
   ]
  },
  {
   "cell_type": "code",
   "execution_count": 61,
   "metadata": {},
   "outputs": [],
   "source": [
    "def getCover(txn: list, CT: dict):\n",
    "    '''\n",
    "    <algorithm 2>\n",
    "\n",
    "    Get the standard cover of a transaction.\n",
    "    \n",
    "    @param txn: A transaction\n",
    "    @param CT:  code table CT\n",
    "    @return: a set, standard cover\n",
    "    CT = { (str)\"items\":(int)code, ...}\n",
    "    '''\n",
    "    # get the standard code\n",
    "    code = set()\n",
    "    \n",
    "    # S ← smallest element X of CT in Standard Cover Order for which X ⊆ t\n",
    "    for k,v in CT.items():\n",
    "        if set(str2vec(k)).issubset(set(txn)):\n",
    "            # add string to set <can this be better?>\n",
    "            code.add(k)\n",
    "            # code = set(str2vec(k))\n",
    "            break\n",
    "    # if t \\ S = ∅ then\n",
    "    if len(set(txn) - strset2intset(code)) == 0:\n",
    "        return code\n",
    "    else:\n",
    "        # Res ← {S} ∪ StandardCover(t \\ S, CT )\n",
    "        return code.union(getCover(list(set(txn) - strset2intset(code)), CT))"
   ]
  },
  {
   "cell_type": "code",
   "execution_count": 62,
   "metadata": {},
   "outputs": [
    {
     "data": {
      "text/plain": [
       "{'44', '8'}"
      ]
     },
     "execution_count": 62,
     "metadata": {},
     "output_type": "execute_result"
    }
   ],
   "source": [
    "test = getCover(txns[5], SCT)\n",
    "test"
   ]
  },
  {
   "cell_type": "code",
   "execution_count": 63,
   "metadata": {},
   "outputs": [],
   "source": [
    "def properPowerset(iterable):\n",
    "    '''\n",
    "    powerset([1,2,3]) --> (1,) (2,) (3,) (1,2) (1,3) (2,3) (1,2,3)\n",
    "    '''\n",
    "    s = list(iterable)\n",
    "    return list(chain.from_iterable(combinations(s, r) for r in range(2,len(s)+1)))"
   ]
  },
  {
   "cell_type": "code",
   "execution_count": 64,
   "metadata": {},
   "outputs": [
    {
     "data": {
      "text/plain": [
       "[(1, 2), (1, 4), (2, 4), (1, 2, 4)]"
      ]
     },
     "execution_count": 64,
     "metadata": {},
     "output_type": "execute_result"
    }
   ],
   "source": [
    "properPowerset([1,2,4])"
   ]
  },
  {
   "cell_type": "code",
   "execution_count": 65,
   "metadata": {},
   "outputs": [],
   "source": [
    "def getCandidateSet(txns: list):\n",
    "    \"\"\"\n",
    "    \n",
    "    candidate set F = D in Standard Candidate Order.\n",
    "\n",
    "    @param txns: database / list of transactions\n",
    "    @return: standard code table SCT\n",
    "    SCT = { itemName:(code,frequency) , ...}\n",
    "    \"\"\"\n",
    "    # get the unique items in transactions\n",
    "    d = {}\n",
    "    for tx1 in txns:\n",
    "        # calculate support\n",
    "        for ps in properPowerset(tx1):\n",
    "            key = vec2str(ps)\n",
    "            if(key not in d):\n",
    "                d[key] = 1\n",
    "            else:\n",
    "                d[key] += 1\n",
    "    \n",
    "    # Standard Candidate Order =  decreasing by support, decreasing by count, lexicographic\n",
    "    # sort items by their frequency\n",
    "    d = { k:v for k,v in sorted(d.items(), key=lambda x: str2vec(x[0]))}\n",
    "    #by count\n",
    "    d = { k:v for k,v in sorted(d.items(), key=lambda x: count_spaces(x[0]), reverse=True)}\n",
    "    # by support(X) = number of transactions that contain X\n",
    "    d = { k:v for k,v in sorted(d.items(), key=lambda x: x[1], reverse=True)}\n",
    "    # print(d)\n",
    "\n",
    "    return d\n",
    "\n",
    "\n",
    "F = getCandidateSet(txns)"
   ]
  },
  {
   "cell_type": "code",
   "execution_count": 66,
   "metadata": {},
   "outputs": [],
   "source": [
    "# F"
   ]
  },
  {
   "cell_type": "code",
   "execution_count": 67,
   "metadata": {},
   "outputs": [],
   "source": [
    "def LDCT(txns, encoding, xdict):\n",
    "    ret = 0\n",
    "    for txn in txns:\n",
    "        arg = vec2str(txn)\n",
    "        for X in encoding[arg]:\n",
    "            ret += np.log(sum(xdict.values())/xdict[X])\n",
    "\n",
    "    return ret\n",
    "            "
   ]
  },
  {
   "cell_type": "code",
   "execution_count": 68,
   "metadata": {},
   "outputs": [],
   "source": [
    "def LCTD(txns, encoding, xdict):\n",
    "    # L(CT | D) = sum                         < L(code_ST(X))(->????!!!!!) + L(code_CT(X)) >\n",
    "    #                (for X ∈ CT :usage(X)!=0)  \n",
    "    ret = 0\n",
    "    for X in xdict.keys():\n",
    "        LcodeSTX = 0\n",
    "        for item in X.strip().split():\n",
    "            # print(item)\n",
    "            LcodeSTX += np.log(sum(SCT.values())/SCT[item])\n",
    "        ret += LcodeSTX\n",
    "        ret += np.log(sum(xdict.values())/xdict[X])\n",
    "\n",
    "    return ret"
   ]
  },
  {
   "cell_type": "code",
   "execution_count": 69,
   "metadata": {},
   "outputs": [],
   "source": [
    "def getL(txns: list, encoding, xdict):\n",
    "    return LDCT(txns, encoding, xdict) + LCTD(txns, encoding, xdict)"
   ]
  },
  {
   "cell_type": "code",
   "execution_count": 70,
   "metadata": {},
   "outputs": [],
   "source": [
    "def coverall(CT: dict, txns: list):\n",
    "    '''\n",
    "    @return a dict of items and their cover, a dict of cover stats {X: (usage)}\n",
    "\n",
    "    @definition usage: the number of transactions that contain X in their cover\n",
    "    '''\n",
    "    xCov = {}\n",
    "    covDict = {}\n",
    "    for txn in txns:\n",
    "        cov = getCover(txn, CT)\n",
    "        covDict[vec2str(txn)] = cov\n",
    "        for X in cov:\n",
    "            if X not in xCov:\n",
    "                xCov[X] = 1\n",
    "            else:\n",
    "                xCov[X] += 1\n",
    "    \n",
    "    return covDict, xCov"
   ]
  },
  {
   "cell_type": "code",
   "execution_count": 78,
   "metadata": {},
   "outputs": [],
   "source": [
    "# a,b = coverall(SCT, txns)"
   ]
  },
  {
   "cell_type": "code",
   "execution_count": 77,
   "metadata": {},
   "outputs": [],
   "source": [
    "# b"
   ]
  },
  {
   "cell_type": "code",
   "execution_count": 73,
   "metadata": {},
   "outputs": [],
   "source": [
    "def krimp(txns: list, F: dict, SCT: dict):\n",
    "    \"\"\"\n",
    "    <algorithm 3>\n",
    "    Our main KRIMP algorithm\n",
    "    @param txns: database / list of transactions\n",
    "    @param F: candidate set F\n",
    "    @param SCT: standard code table SCT\n",
    "    @return: compressed code table CT\n",
    "    \"\"\"\n",
    "\n",
    "    CT = SCT.copy()\n",
    "    for key, value in F.items():\n",
    "        # CTc ← (CT ∪ F) in Standard Cover Order\n",
    "        CTc = CT.copy()\n",
    "        # [TODO] Modify to add key at proper position\n",
    "        CTc[key] = value\n",
    "        # cover every txn and get cover stats\n",
    "        encoding_ctc, dictx_ctc = coverall(CTc, txns)\n",
    "        encoding_ct, dictx_ct = coverall(CT, txns)\n",
    "        if getL(txns, encoding_ctc, dictx_ctc) < getL(txns, encoding_ct, dictx_ct):\n",
    "            CT = CTc\n",
    "\n",
    "    return CT"
   ]
  },
  {
   "cell_type": "code",
   "execution_count": 74,
   "metadata": {},
   "outputs": [],
   "source": [
    "ans = krimp(txns, F, SCT)"
   ]
  },
  {
   "cell_type": "code",
   "execution_count": 75,
   "metadata": {},
   "outputs": [
    {
     "data": {
      "text/plain": [
       "{'4': 19,\n",
       " '1': 18,\n",
       " '17': 11,\n",
       " '21': 9,\n",
       " '0': 8,\n",
       " '3': 8,\n",
       " '18': 8,\n",
       " '8': 7,\n",
       " '24': 6,\n",
       " '37': 6,\n",
       " '70': 6,\n",
       " '73': 6,\n",
       " '2': 5,\n",
       " '16': 5,\n",
       " '7': 4,\n",
       " '10': 4,\n",
       " '13': 4,\n",
       " '23': 4,\n",
       " '35': 4,\n",
       " '44': 4,\n",
       " '49': 4,\n",
       " '68': 4,\n",
       " '9': 3,\n",
       " '11': 3,\n",
       " '15': 3,\n",
       " '20': 3,\n",
       " '31': 3,\n",
       " '50': 3,\n",
       " '63': 3,\n",
       " '64': 3,\n",
       " '74': 3,\n",
       " '79': 3,\n",
       " '82': 3,\n",
       " '6': 2,\n",
       " '12': 2,\n",
       " '14': 2,\n",
       " '19': 2,\n",
       " '25': 2,\n",
       " '26': 2,\n",
       " '36': 2,\n",
       " '43': 2,\n",
       " '61': 2,\n",
       " '75': 2,\n",
       " '94': 2,\n",
       " '95': 2,\n",
       " '113': 2,\n",
       " '122': 2,\n",
       " '128': 2,\n",
       " '129': 2,\n",
       " '137': 2,\n",
       " '27': 1,\n",
       " '28': 1,\n",
       " '30': 1,\n",
       " '33': 1,\n",
       " '34': 1,\n",
       " '38': 1,\n",
       " '39': 1,\n",
       " '40': 1,\n",
       " '41': 1,\n",
       " '48': 1,\n",
       " '52': 1,\n",
       " '55': 1,\n",
       " '56': 1,\n",
       " '58': 1,\n",
       " '59': 1,\n",
       " '60': 1,\n",
       " '62': 1,\n",
       " '65': 1,\n",
       " '67': 1,\n",
       " '69': 1,\n",
       " '72': 1,\n",
       " '76': 1,\n",
       " '77': 1,\n",
       " '81': 1,\n",
       " '84': 1,\n",
       " '100': 1,\n",
       " '101': 1,\n",
       " '102': 1,\n",
       " '106': 1,\n",
       " '112': 1,\n",
       " '118': 1,\n",
       " '127': 1,\n",
       " '130': 1,\n",
       " '131': 1,\n",
       " '136': 1,\n",
       " '145': 1,\n",
       " '147': 1,\n",
       " '150': 1,\n",
       " '151': 1,\n",
       " '153': 1,\n",
       " '158': 1}"
      ]
     },
     "execution_count": 75,
     "metadata": {},
     "output_type": "execute_result"
    }
   ],
   "source": [
    "ans"
   ]
  },
  {
   "cell_type": "code",
   "execution_count": 76,
   "metadata": {},
   "outputs": [
    {
     "data": {
      "text/plain": [
       "['12', '105']"
      ]
     },
     "execution_count": 76,
     "metadata": {},
     "output_type": "execute_result"
    }
   ],
   "source": [
    "st = '12 105'\n",
    "st.strip().split()"
   ]
  },
  {
   "cell_type": "code",
   "execution_count": null,
   "metadata": {},
   "outputs": [],
   "source": []
  }
 ],
 "metadata": {
  "interpreter": {
   "hash": "aee8b7b246df8f9039afb4144a1f6fd8d2ca17a180786b69acc140d282b71a49"
  },
  "kernelspec": {
   "display_name": "Python 3.9.5 64-bit",
   "language": "python",
   "name": "python3"
  },
  "language_info": {
   "codemirror_mode": {
    "name": "ipython",
    "version": 3
   },
   "file_extension": ".py",
   "mimetype": "text/x-python",
   "name": "python",
   "nbconvert_exporter": "python",
   "pygments_lexer": "ipython3",
   "version": "3.7.11"
  },
  "orig_nbformat": 4
 },
 "nbformat": 4,
 "nbformat_minor": 2
}
