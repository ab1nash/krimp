{
 "cells": [
  {
   "cell_type": "code",
   "execution_count": 50,
   "metadata": {},
   "outputs": [],
   "source": [
    "import pandas as pd\n",
    "import numpy as np"
   ]
  },
  {
   "cell_type": "code",
   "execution_count": 16,
   "metadata": {},
   "outputs": [],
   "source": [
    "# read online retail data\n",
    "# create a dictionary mapping items to their <int codes>\n",
    "# create transactions which are items grouped by InvoiceNo\n",
    "# https://www.kaggle.com/heeraldedhia/groceries-dataset?select=Groceries_dataset.csv\n",
    "\n",
    "columns = ['Member_number','Date','itemDescription']\n",
    "df = pd.read_csv('data/Groceries_dataset.csv')\n",
    "# remove all null entries\n",
    "df = df.dropna()"
   ]
  },
  {
   "cell_type": "code",
   "execution_count": 32,
   "metadata": {},
   "outputs": [],
   "source": [
    "# df"
   ]
  },
  {
   "cell_type": "code",
   "execution_count": 24,
   "metadata": {},
   "outputs": [],
   "source": [
    "# extract all unique values from the itemDescription column\n",
    "itemNames = df['itemDescription'].unique()\n",
    "itemNames = itemNames.tolist()\n",
    "itemNames = itemNames.sort()\n",
    "# integer map itemNames to integers\n",
    "itemNamesMap = {}\n",
    "for i in range(len(itemNames)):\n",
    "    itemNamesMap[itemNames[i]] = i"
   ]
  },
  {
   "cell_type": "code",
   "execution_count": 28,
   "metadata": {},
   "outputs": [],
   "source": [
    "# replace itemDescription with integer codes\n",
    "df['itemDescription'] = df['itemDescription'].map(itemNamesMap)\n",
    "transactions = df.groupby(['Member_number', 'Date'])['itemDescription'].unique().reset_index()"
   ]
  },
  {
   "cell_type": "code",
   "execution_count": 31,
   "metadata": {},
   "outputs": [
    {
     "data": {
      "text/html": [
       "<div>\n",
       "<style scoped>\n",
       "    .dataframe tbody tr th:only-of-type {\n",
       "        vertical-align: middle;\n",
       "    }\n",
       "\n",
       "    .dataframe tbody tr th {\n",
       "        vertical-align: top;\n",
       "    }\n",
       "\n",
       "    .dataframe thead th {\n",
       "        text-align: right;\n",
       "    }\n",
       "</style>\n",
       "<table border=\"1\" class=\"dataframe\">\n",
       "  <thead>\n",
       "    <tr style=\"text-align: right;\">\n",
       "      <th></th>\n",
       "      <th>Member_number</th>\n",
       "      <th>Date</th>\n",
       "      <th>itemDescription</th>\n",
       "    </tr>\n",
       "  </thead>\n",
       "  <tbody>\n",
       "    <tr>\n",
       "      <th>0</th>\n",
       "      <td>1000</td>\n",
       "      <td>15-03-2015</td>\n",
       "      <td>[18, 1, 102, 17]</td>\n",
       "    </tr>\n",
       "    <tr>\n",
       "      <th>1</th>\n",
       "      <td>1000</td>\n",
       "      <td>24-06-2014</td>\n",
       "      <td>[1, 23, 79]</td>\n",
       "    </tr>\n",
       "    <tr>\n",
       "      <th>2</th>\n",
       "      <td>1000</td>\n",
       "      <td>24-07-2015</td>\n",
       "      <td>[24, 27]</td>\n",
       "    </tr>\n",
       "    <tr>\n",
       "      <th>3</th>\n",
       "      <td>1000</td>\n",
       "      <td>25-11-2015</td>\n",
       "      <td>[18, 95]</td>\n",
       "    </tr>\n",
       "    <tr>\n",
       "      <th>4</th>\n",
       "      <td>1000</td>\n",
       "      <td>27-05-2015</td>\n",
       "      <td>[37, 61]</td>\n",
       "    </tr>\n",
       "    <tr>\n",
       "      <th>...</th>\n",
       "      <td>...</td>\n",
       "      <td>...</td>\n",
       "      <td>...</td>\n",
       "    </tr>\n",
       "    <tr>\n",
       "      <th>14958</th>\n",
       "      <td>4999</td>\n",
       "      <td>24-01-2015</td>\n",
       "      <td>[0, 25, 3, 17, 131, 113]</td>\n",
       "    </tr>\n",
       "    <tr>\n",
       "      <th>14959</th>\n",
       "      <td>4999</td>\n",
       "      <td>26-12-2015</td>\n",
       "      <td>[16, 36]</td>\n",
       "    </tr>\n",
       "    <tr>\n",
       "      <th>14960</th>\n",
       "      <td>5000</td>\n",
       "      <td>09-03-2014</td>\n",
       "      <td>[11, 65]</td>\n",
       "    </tr>\n",
       "    <tr>\n",
       "      <th>14961</th>\n",
       "      <td>5000</td>\n",
       "      <td>10-02-2015</td>\n",
       "      <td>[37, 21, 102]</td>\n",
       "    </tr>\n",
       "    <tr>\n",
       "      <th>14962</th>\n",
       "      <td>5000</td>\n",
       "      <td>16-11-2014</td>\n",
       "      <td>[49, 3]</td>\n",
       "    </tr>\n",
       "  </tbody>\n",
       "</table>\n",
       "<p>14963 rows × 3 columns</p>\n",
       "</div>"
      ],
      "text/plain": [
       "       Member_number        Date           itemDescription\n",
       "0               1000  15-03-2015          [18, 1, 102, 17]\n",
       "1               1000  24-06-2014               [1, 23, 79]\n",
       "2               1000  24-07-2015                  [24, 27]\n",
       "3               1000  25-11-2015                  [18, 95]\n",
       "4               1000  27-05-2015                  [37, 61]\n",
       "...              ...         ...                       ...\n",
       "14958           4999  24-01-2015  [0, 25, 3, 17, 131, 113]\n",
       "14959           4999  26-12-2015                  [16, 36]\n",
       "14960           5000  09-03-2014                  [11, 65]\n",
       "14961           5000  10-02-2015             [37, 21, 102]\n",
       "14962           5000  16-11-2014                   [49, 3]\n",
       "\n",
       "[14963 rows x 3 columns]"
      ]
     },
     "execution_count": 31,
     "metadata": {},
     "output_type": "execute_result"
    }
   ],
   "source": [
    "transactions"
   ]
  },
  {
   "cell_type": "code",
   "execution_count": 49,
   "metadata": {},
   "outputs": [],
   "source": [
    "# write itemNamesMap to file\n",
    "with open('data/grocery_itemNamesMap.txt', 'w') as f:\n",
    "    for key in itemNamesMap:\n",
    "        f.write(key + ',' + str(itemNamesMap[key]) + '\\n')\n",
    "\n",
    "# write transactions to file\n",
    "with open('data/grocery.txt', 'w') as f:\n",
    "    for i in range(len(transactions)):\n",
    "        tempSize = len(transactions.iloc[i]['itemDescription'])\n",
    "        for j in range(tempSize):\n",
    "            if j == tempSize - 1:\n",
    "                f.write(str(transactions['itemDescription'][i][j]) + '\\n')\n",
    "            else:\n",
    "                f.write(str(transactions['itemDescription'][i][j]) + ',')"
   ]
  },
  {
   "cell_type": "code",
   "execution_count": null,
   "metadata": {},
   "outputs": [],
   "source": []
  }
 ],
 "metadata": {
  "interpreter": {
   "hash": "02aef83a5d35cdbca4d528b8446c0bbed523ade5a1aaaf2ce3cb056d40e55032"
  },
  "kernelspec": {
   "display_name": "Python 3.7.11 ('datasc3.7')",
   "language": "python",
   "name": "python3"
  },
  "language_info": {
   "codemirror_mode": {
    "name": "ipython",
    "version": 3
   },
   "file_extension": ".py",
   "mimetype": "text/x-python",
   "name": "python",
   "nbconvert_exporter": "python",
   "pygments_lexer": "ipython3",
   "version": "3.7.11"
  },
  "orig_nbformat": 4
 },
 "nbformat": 4,
 "nbformat_minor": 2
}
